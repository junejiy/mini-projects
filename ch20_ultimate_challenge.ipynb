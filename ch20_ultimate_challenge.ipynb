{
 "cells": [
  {
   "cell_type": "markdown",
   "metadata": {},
   "source": [
    "## Data Analysis Interview Challenge\n",
    "\n",
    "This is your chance to wow us with creative and rigorous solutions! Please include your code at the end of your submission, or in a separate file. We also accept incomplete solutions.\n",
    "\n",
    "### Part 1 ‐ Exploratory data analysis\n",
    "\n",
    "The attached logins.json file contains (simulated) timestamps of user logins in a particular geographic location. \n",
    "\n",
    "    - Aggregate these login counts based on 15­minute time intervals\n",
    "    - visualize and describe the resulting time series of login counts in ways that best characterize the underlying patterns of the demand. \n",
    "    \n",
    "Please report/illustrate important features of the demand, such as daily cycles. If there are data quality issues, please report them."
   ]
  },
  {
   "cell_type": "code",
   "execution_count": 1,
   "metadata": {},
   "outputs": [],
   "source": [
    "import pandas as pd\n",
    "import numpy as np\n",
    "import datetime as dt\n",
    "import matplotlib.pyplot as plt\n",
    "import seaborn as sns\n",
    "import json\n",
    "\n",
    "df = pd.read_json(\"/Users/kim.jiy/documents/springboard/ch20/ultimate_challenge/logins.json\")"
   ]
  },
  {
   "cell_type": "code",
   "execution_count": 2,
   "metadata": {},
   "outputs": [
    {
     "data": {
      "text/html": [
       "<div>\n",
       "<style scoped>\n",
       "    .dataframe tbody tr th:only-of-type {\n",
       "        vertical-align: middle;\n",
       "    }\n",
       "\n",
       "    .dataframe tbody tr th {\n",
       "        vertical-align: top;\n",
       "    }\n",
       "\n",
       "    .dataframe thead th {\n",
       "        text-align: right;\n",
       "    }\n",
       "</style>\n",
       "<table border=\"1\" class=\"dataframe\">\n",
       "  <thead>\n",
       "    <tr style=\"text-align: right;\">\n",
       "      <th></th>\n",
       "      <th>login_time</th>\n",
       "    </tr>\n",
       "  </thead>\n",
       "  <tbody>\n",
       "    <tr>\n",
       "      <th>0</th>\n",
       "      <td>1970-01-01 20:13:18</td>\n",
       "    </tr>\n",
       "    <tr>\n",
       "      <th>1</th>\n",
       "      <td>1970-01-01 20:16:10</td>\n",
       "    </tr>\n",
       "    <tr>\n",
       "      <th>2</th>\n",
       "      <td>1970-01-01 20:16:37</td>\n",
       "    </tr>\n",
       "    <tr>\n",
       "      <th>3</th>\n",
       "      <td>1970-01-01 20:16:36</td>\n",
       "    </tr>\n",
       "    <tr>\n",
       "      <th>4</th>\n",
       "      <td>1970-01-01 20:26:21</td>\n",
       "    </tr>\n",
       "  </tbody>\n",
       "</table>\n",
       "</div>"
      ],
      "text/plain": [
       "           login_time\n",
       "0 1970-01-01 20:13:18\n",
       "1 1970-01-01 20:16:10\n",
       "2 1970-01-01 20:16:37\n",
       "3 1970-01-01 20:16:36\n",
       "4 1970-01-01 20:26:21"
      ]
     },
     "execution_count": 2,
     "metadata": {},
     "output_type": "execute_result"
    }
   ],
   "source": [
    "df.head()"
   ]
  },
  {
   "cell_type": "code",
   "execution_count": 3,
   "metadata": {},
   "outputs": [
    {
     "data": {
      "text/html": [
       "<div>\n",
       "<style scoped>\n",
       "    .dataframe tbody tr th:only-of-type {\n",
       "        vertical-align: middle;\n",
       "    }\n",
       "\n",
       "    .dataframe tbody tr th {\n",
       "        vertical-align: top;\n",
       "    }\n",
       "\n",
       "    .dataframe thead th {\n",
       "        text-align: right;\n",
       "    }\n",
       "</style>\n",
       "<table border=\"1\" class=\"dataframe\">\n",
       "  <thead>\n",
       "    <tr style=\"text-align: right;\">\n",
       "      <th></th>\n",
       "      <th>login_time</th>\n",
       "    </tr>\n",
       "  </thead>\n",
       "  <tbody>\n",
       "    <tr>\n",
       "      <th>count</th>\n",
       "      <td>93142</td>\n",
       "    </tr>\n",
       "    <tr>\n",
       "      <th>unique</th>\n",
       "      <td>92265</td>\n",
       "    </tr>\n",
       "    <tr>\n",
       "      <th>top</th>\n",
       "      <td>1970-02-12 11:16:53</td>\n",
       "    </tr>\n",
       "    <tr>\n",
       "      <th>freq</th>\n",
       "      <td>3</td>\n",
       "    </tr>\n",
       "    <tr>\n",
       "      <th>first</th>\n",
       "      <td>1970-01-01 20:12:16</td>\n",
       "    </tr>\n",
       "    <tr>\n",
       "      <th>last</th>\n",
       "      <td>1970-04-13 18:57:38</td>\n",
       "    </tr>\n",
       "  </tbody>\n",
       "</table>\n",
       "</div>"
      ],
      "text/plain": [
       "                 login_time\n",
       "count                 93142\n",
       "unique                92265\n",
       "top     1970-02-12 11:16:53\n",
       "freq                      3\n",
       "first   1970-01-01 20:12:16\n",
       "last    1970-04-13 18:57:38"
      ]
     },
     "execution_count": 3,
     "metadata": {},
     "output_type": "execute_result"
    }
   ],
   "source": [
    "df.describe()"
   ]
  },
  {
   "cell_type": "code",
   "execution_count": 4,
   "metadata": {},
   "outputs": [
    {
     "name": "stderr",
     "output_type": "stream",
     "text": [
      "/Users/kim.jiy/anaconda3/lib/python3.6/site-packages/ipykernel_launcher.py:7: FutureWarning: how in .resample() is deprecated\n",
      "the new syntax is .resample(...).count()\n",
      "  import sys\n"
     ]
    }
   ],
   "source": [
    "# First index on the timestamp column,\n",
    "df.set_index('login_time',inplace = True)\n",
    "\n",
    "# Add a numeric column (you need something for resampling to aggregate)\n",
    "df['count'] = 1\n",
    "\n",
    "df_15min= df.resample('15T', how='count')\n"
   ]
  },
  {
   "cell_type": "code",
   "execution_count": 5,
   "metadata": {},
   "outputs": [
    {
     "data": {
      "text/html": [
       "<div>\n",
       "<style scoped>\n",
       "    .dataframe tbody tr th:only-of-type {\n",
       "        vertical-align: middle;\n",
       "    }\n",
       "\n",
       "    .dataframe tbody tr th {\n",
       "        vertical-align: top;\n",
       "    }\n",
       "\n",
       "    .dataframe thead th {\n",
       "        text-align: right;\n",
       "    }\n",
       "</style>\n",
       "<table border=\"1\" class=\"dataframe\">\n",
       "  <thead>\n",
       "    <tr style=\"text-align: right;\">\n",
       "      <th></th>\n",
       "      <th>count</th>\n",
       "    </tr>\n",
       "    <tr>\n",
       "      <th>login_time</th>\n",
       "      <th></th>\n",
       "    </tr>\n",
       "  </thead>\n",
       "  <tbody>\n",
       "    <tr>\n",
       "      <th>1970-01-01 20:00:00</th>\n",
       "      <td>2</td>\n",
       "    </tr>\n",
       "    <tr>\n",
       "      <th>1970-01-01 20:15:00</th>\n",
       "      <td>6</td>\n",
       "    </tr>\n",
       "    <tr>\n",
       "      <th>1970-01-01 20:30:00</th>\n",
       "      <td>9</td>\n",
       "    </tr>\n",
       "    <tr>\n",
       "      <th>1970-01-01 20:45:00</th>\n",
       "      <td>7</td>\n",
       "    </tr>\n",
       "    <tr>\n",
       "      <th>1970-01-01 21:00:00</th>\n",
       "      <td>1</td>\n",
       "    </tr>\n",
       "  </tbody>\n",
       "</table>\n",
       "</div>"
      ],
      "text/plain": [
       "                     count\n",
       "login_time                \n",
       "1970-01-01 20:00:00      2\n",
       "1970-01-01 20:15:00      6\n",
       "1970-01-01 20:30:00      9\n",
       "1970-01-01 20:45:00      7\n",
       "1970-01-01 21:00:00      1"
      ]
     },
     "execution_count": 5,
     "metadata": {},
     "output_type": "execute_result"
    }
   ],
   "source": [
    "df_15min.head()"
   ]
  },
  {
   "cell_type": "markdown",
   "metadata": {},
   "source": [
    "The data is from 1920-01-01 to 1970-04-13 "
   ]
  },
  {
   "cell_type": "markdown",
   "metadata": {},
   "source": [
    "There are not specific patterns a graph on 15 minutes interval. "
   ]
  },
  {
   "cell_type": "code",
   "execution_count": 6,
   "metadata": {},
   "outputs": [
    {
     "data": {
      "text/plain": [
       "[<matplotlib.lines.Line2D at 0x1198e2b70>]"
      ]
     },
     "execution_count": 6,
     "metadata": {},
     "output_type": "execute_result"
    },
    {
     "data": {
      "image/png": "[encoded data removed]",
      "text/plain": [
       "<Figure size 2160x720 with 1 Axes>"
      ]
     },
     "metadata": {
      "needs_background": "light"
     },
     "output_type": "display_data"
    }
   ],
   "source": [
    "import matplotlib.pyplot as plt\n",
    "\n",
    "plt.figure(figsize=(30,10))\n",
    "\n",
    "plt.plot(df_15min)"
   ]
  },
  {
   "cell_type": "code",
   "execution_count": 7,
   "metadata": {},
   "outputs": [],
   "source": [
    "df['time'] = pd.to_datetime(df.index)\n",
    "df[\"month\"]= df.time.dt.month\n",
    "df[\"week\"]= df.time.dt.dayofweek\n",
    "df['day'] = df.time.dt.day\n",
    "df['hour'] = df.time.dt.hour\n"
   ]
  },
  {
   "cell_type": "code",
   "execution_count": 8,
   "metadata": {},
   "outputs": [
    {
     "data": {
      "text/html": [
       "<div>\n",
       "<style scoped>\n",
       "    .dataframe tbody tr th:only-of-type {\n",
       "        vertical-align: middle;\n",
       "    }\n",
       "\n",
       "    .dataframe tbody tr th {\n",
       "        vertical-align: top;\n",
       "    }\n",
       "\n",
       "    .dataframe thead th {\n",
       "        text-align: right;\n",
       "    }\n",
       "</style>\n",
       "<table border=\"1\" class=\"dataframe\">\n",
       "  <thead>\n",
       "    <tr style=\"text-align: right;\">\n",
       "      <th></th>\n",
       "      <th>count</th>\n",
       "      <th>time</th>\n",
       "      <th>month</th>\n",
       "      <th>week</th>\n",
       "      <th>day</th>\n",
       "      <th>hour</th>\n",
       "    </tr>\n",
       "    <tr>\n",
       "      <th>login_time</th>\n",
       "      <th></th>\n",
       "      <th></th>\n",
       "      <th></th>\n",
       "      <th></th>\n",
       "      <th></th>\n",
       "      <th></th>\n",
       "    </tr>\n",
       "  </thead>\n",
       "  <tbody>\n",
       "    <tr>\n",
       "      <th>1970-01-01 20:13:18</th>\n",
       "      <td>1</td>\n",
       "      <td>1970-01-01 20:13:18</td>\n",
       "      <td>1</td>\n",
       "      <td>3</td>\n",
       "      <td>1</td>\n",
       "      <td>20</td>\n",
       "    </tr>\n",
       "    <tr>\n",
       "      <th>1970-01-01 20:16:10</th>\n",
       "      <td>1</td>\n",
       "      <td>1970-01-01 20:16:10</td>\n",
       "      <td>1</td>\n",
       "      <td>3</td>\n",
       "      <td>1</td>\n",
       "      <td>20</td>\n",
       "    </tr>\n",
       "    <tr>\n",
       "      <th>1970-01-01 20:16:37</th>\n",
       "      <td>1</td>\n",
       "      <td>1970-01-01 20:16:37</td>\n",
       "      <td>1</td>\n",
       "      <td>3</td>\n",
       "      <td>1</td>\n",
       "      <td>20</td>\n",
       "    </tr>\n",
       "    <tr>\n",
       "      <th>1970-01-01 20:16:36</th>\n",
       "      <td>1</td>\n",
       "      <td>1970-01-01 20:16:36</td>\n",
       "      <td>1</td>\n",
       "      <td>3</td>\n",
       "      <td>1</td>\n",
       "      <td>20</td>\n",
       "    </tr>\n",
       "    <tr>\n",
       "      <th>1970-01-01 20:26:21</th>\n",
       "      <td>1</td>\n",
       "      <td>1970-01-01 20:26:21</td>\n",
       "      <td>1</td>\n",
       "      <td>3</td>\n",
       "      <td>1</td>\n",
       "      <td>20</td>\n",
       "    </tr>\n",
       "  </tbody>\n",
       "</table>\n",
       "</div>"
      ],
      "text/plain": [
       "                     count                time  month  week  day  hour\n",
       "login_time                                                            \n",
       "1970-01-01 20:13:18      1 1970-01-01 20:13:18      1     3    1    20\n",
       "1970-01-01 20:16:10      1 1970-01-01 20:16:10      1     3    1    20\n",
       "1970-01-01 20:16:37      1 1970-01-01 20:16:37      1     3    1    20\n",
       "1970-01-01 20:16:36      1 1970-01-01 20:16:36      1     3    1    20\n",
       "1970-01-01 20:26:21      1 1970-01-01 20:26:21      1     3    1    20"
      ]
     },
     "execution_count": 8,
     "metadata": {},
     "output_type": "execute_result"
    }
   ],
   "source": [
    "df.head()"
   ]
  },
  {
   "cell_type": "markdown",
   "metadata": {},
   "source": [
    "### Login at each month\n",
    "\n",
    "Login has increased from January to  March. We do not have full data for April. Eventhough, there is the lowest activities of login on April, we can not compare April with other month. "
   ]
  },
  {
   "cell_type": "code",
   "execution_count": 9,
   "metadata": {},
   "outputs": [
    {
     "data": {
      "text/plain": [
       "Text(0.5, 1.0, 'Login for each month ')"
      ]
     },
     "execution_count": 9,
     "metadata": {},
     "output_type": "execute_result"
    },
    {
     "data": {
      "image/png": "[encoded data removed]",
      "text/plain": [
       "<Figure size 432x288 with 1 Axes>"
      ]
     },
     "metadata": {
      "needs_background": "light"
     },
     "output_type": "display_data"
    }
   ],
   "source": [
    "df_month = df[['count', 'month']]\n",
    "df_month = df_month.groupby('month').sum().reset_index()\n",
    "\n",
    "sns.barplot(x='month', y='count', data=df_month)\n",
    "plt.ylabel('Count')\n",
    "plt.xlabel('month')\n",
    "plt.title('Login for each month ')"
   ]
  },
  {
   "cell_type": "markdown",
   "metadata": {},
   "source": [
    "### Login at each week\n",
    "\n",
    "Login has increased from Monday to Saturday. Saturday has the highest login activities. Login activities has little decreased on Sunday. "
   ]
  },
  {
   "cell_type": "code",
   "execution_count": 10,
   "metadata": {},
   "outputs": [
    {
     "data": {
      "text/plain": [
       "Text(0.5, 1.0, 'Login for each week ')"
      ]
     },
     "execution_count": 10,
     "metadata": {},
     "output_type": "execute_result"
    },
    {
     "data": {
      "image/png": "[encoded data removed]",
      "text/plain": [
       "<Figure size 432x288 with 1 Axes>"
      ]
     },
     "metadata": {
      "needs_background": "light"
     },
     "output_type": "display_data"
    }
   ],
   "source": [
    "\n",
    "df_week = df[['count', 'week']]\n",
    "df_week = df_week.groupby('week').sum().reset_index()\n",
    "df_week[\"week\"]=['Mon', 'Tues', 'Wed','Thurs','Fri', 'Sat', 'Sun']\n",
    "\n",
    "sns.barplot(x='week', y='count', data=df_week)\n",
    "plt.ylabel('Count')\n",
    "plt.xlabel('Week')\n",
    "plt.title('Login for each week ')"
   ]
  },
  {
   "cell_type": "markdown",
   "metadata": {},
   "source": [
    "### Login at each hour\n",
    "\n",
    "Login activities have increased during lunch. We have the highest login activity at night. \n"
   ]
  },
  {
   "cell_type": "code",
   "execution_count": 11,
   "metadata": {},
   "outputs": [
    {
     "data": {
      "text/plain": [
       "Text(0.5, 1.0, 'Login for each hour ')"
      ]
     },
     "execution_count": 11,
     "metadata": {},
     "output_type": "execute_result"
    },
    {
     "data": {
      "image/png": "[encoded data removed]",
      "text/plain": [
       "<Figure size 432x288 with 1 Axes>"
      ]
     },
     "metadata": {
      "needs_background": "light"
     },
     "output_type": "display_data"
    }
   ],
   "source": [
    "df_hour = df[['count', 'hour']]\n",
    "df_hour = df_hour.groupby('hour').sum().reset_index()\n",
    "\n",
    "sns.barplot(x='hour', y='count', data=df_hour)\n",
    "plt.ylabel('Count')\n",
    "plt.xlabel('hour')\n",
    "plt.title('Login for each hour ')\n",
    "\n"
   ]
  },
  {
   "cell_type": "markdown",
   "metadata": {},
   "source": [
    "### Conclusion for Part 1. \n",
    "\n",
    "1. Login activities have increased from January to March.\n",
    "2. There are more login activities toward weekend.\n",
    "3. Logins are active at the afternoon and at night. "
   ]
  },
  {
   "cell_type": "markdown",
   "metadata": {},
   "source": [
    "## Part 2\n",
    "\n",
    "1. What would you choose as the key measure of success of this experiment in encouraging driver partners to serve both cities, and why would you choose this metric?\n",
    "\n",
    "\n",
    "2. Describe a practical experiment you would design to compare the effectiveness of the proposed change in relation to the key measure of success. Please provide details on:\n",
    "\n",
    "    a. how you will implement the experiment\n",
    "    \n",
    "    b. what statistical test(s) you will conduct to verify the significance of the observation\n",
    "    \n",
    "    c. how you would interpret the results and provide recommendations to the city operations team along with any caveats."
   ]
  },
  {
   "cell_type": "markdown",
   "metadata": {},
   "source": [
    "The goal of the company is to increase profits by encouraging driver partners to be available in both cities by reimbursing all toll costs. So the key mearsure of sucess would be profits after reimbursment of all toll costs. \n",
    "\n",
    "I would conduct A/B testing. I would divide to two groups of drivers and open service to one group so that drivers in the group can travel between two cities. The remaining group would have the service like before. After weeks of experiment, draw graphs to compare results from each two groups. T-test can be conducted on the means of profits from each two groups to check it is statistically significant.  \n",
    "\n",
    "If the means of each profit are different, I would suggest to the city operations tea to open the service to public. "
   ]
  },
  {
   "cell_type": "markdown",
   "metadata": {},
   "source": [
    "### Part 3 ‐ Predictive modeling\n",
    "\n",
    "Ultimate is interested in predicting rider retention. To help explore this question, we have provided a sample dataset of a cohort of users who signed up for an Ultimate account in January 2014. The data was pulled several months later; we consider a user retained if they were “active” (i.e. took a trip) in the preceding 30 days.\n",
    "\n",
    "We would like you to use this data set to help understand what factors are the best predictors for retention, and offer suggestions to operationalize those insights to help Ultimate.\n",
    "\n",
    "The data is in the attached file ultimate_data_challenge.json. See below for a detailed description of the dataset. Please include any code you wrote for the analysis and delete the dataset when you have finished with the challenge.\n",
    "\n",
    "1. Perform any cleaning, exploratory analysis, and/or visualizations to use the provided data for this analysis (a few sentences/plots describing your approach will suffice). What fraction of the observed users were retained?\n",
    "2. Build a predictive model to help Ultimate determine whether or not a user will be active in their 6th month on the system. Discuss why you chose your approach, what alternatives you considered, and any concerns you have. How valid is your model? Include any key indicators of model performance.\n",
    "3. Briefly discuss how Ultimate might leverage the insights gained from the model to improve its long­term rider retention (again, a few sentences will suffice).\n"
   ]
  },
  {
   "cell_type": "code",
   "execution_count": 12,
   "metadata": {},
   "outputs": [],
   "source": [
    "file = open('/Users/kim.jiy/documents/springboard/ch20/ultimate_challenge/ultimate_data_challenge.json', 'r')\n",
    "df_ultimate = pd.DataFrame(json.load(file))\n",
    "file.close()\n",
    "\n"
   ]
  },
  {
   "cell_type": "code",
   "execution_count": 13,
   "metadata": {},
   "outputs": [
    {
     "data": {
      "text/plain": [
       "<bound method DataFrame.info of        avg_dist  avg_rating_by_driver  avg_rating_of_driver  avg_surge  \\\n",
       "0          3.67                   5.0                   4.7       1.10   \n",
       "1          8.26                   5.0                   5.0       1.00   \n",
       "2          0.77                   5.0                   4.3       1.00   \n",
       "3          2.36                   4.9                   4.6       1.14   \n",
       "4          3.13                   4.9                   4.4       1.19   \n",
       "5         10.56                   5.0                   3.5       1.00   \n",
       "6          3.95                   4.0                   NaN       1.00   \n",
       "7          2.04                   5.0                   5.0       1.00   \n",
       "8          4.36                   5.0                   4.5       1.00   \n",
       "9          2.37                   5.0                   NaN       1.00   \n",
       "10         4.28                   4.9                   5.0       1.00   \n",
       "11         3.81                   5.0                   4.0       1.00   \n",
       "12        20.29                   5.0                   NaN       1.00   \n",
       "13         3.04                   5.0                   4.0       1.38   \n",
       "14        26.01                   5.0                   NaN       1.00   \n",
       "15        13.20                   5.0                   NaN       1.00   \n",
       "16        10.86                   3.0                   5.0       1.00   \n",
       "17         2.38                   4.8                   3.9       1.00   \n",
       "18         6.83                   4.8                   4.6       1.21   \n",
       "19        12.08                   5.0                   5.0       1.17   \n",
       "20         2.53                   3.0                   NaN       1.00   \n",
       "21         3.31                   5.0                   NaN       1.00   \n",
       "22        11.47                   5.0                   NaN       1.00   \n",
       "23         7.74                   5.0                   5.0       1.00   \n",
       "24         2.10                   4.7                   4.5       1.02   \n",
       "25        14.48                   5.0                   NaN       1.00   \n",
       "26         1.66                   5.0                   4.0       1.00   \n",
       "27         3.05                   5.0                   5.0       1.05   \n",
       "28         5.97                   5.0                   NaN       1.50   \n",
       "29        11.25                   5.0                   4.0       1.00   \n",
       "...         ...                   ...                   ...        ...   \n",
       "49970      5.62                   5.0                   4.3       1.00   \n",
       "49971      4.69                   5.0                   NaN       1.00   \n",
       "49972      4.60                   3.5                   4.0       1.25   \n",
       "49973      4.07                   5.0                   4.0       1.00   \n",
       "49974      4.63                   5.0                   5.0       2.00   \n",
       "49975      2.18                   4.8                   3.9       1.03   \n",
       "49976      2.39                   4.0                   2.0       1.00   \n",
       "49977      8.71                   5.0                   5.0       1.00   \n",
       "49978      6.02                   5.0                   4.5       1.00   \n",
       "49979      3.81                   4.8                   4.0       1.00   \n",
       "49980     14.42                   5.0                   NaN       1.00   \n",
       "49981      5.49                   5.0                   4.0       1.00   \n",
       "49982     15.23                   5.0                   5.0       1.00   \n",
       "49983     30.39                   5.0                   1.0       1.00   \n",
       "49984      3.50                   5.0                   NaN       1.00   \n",
       "49985      1.38                   5.0                   NaN       1.00   \n",
       "49986      0.52                   5.0                   4.0       1.00   \n",
       "49987      4.24                   4.0                   4.6       1.00   \n",
       "49988      2.53                   5.0                   4.5       1.00   \n",
       "49989      0.00                   5.0                   NaN       1.00   \n",
       "49990      3.38                   5.0                   4.7       1.08   \n",
       "49991      1.06                   5.0                   5.0       1.25   \n",
       "49992      7.58                   5.0                   1.0       1.00   \n",
       "49993      2.53                   4.7                   4.8       1.11   \n",
       "49994      2.25                   4.5                   4.6       1.44   \n",
       "49995      5.63                   4.2                   5.0       1.00   \n",
       "49996      0.00                   4.0                   NaN       1.00   \n",
       "49997      3.86                   5.0                   5.0       1.00   \n",
       "49998      4.58                   3.5                   3.0       1.00   \n",
       "49999      3.49                   5.0                   NaN       1.00   \n",
       "\n",
       "                 city last_trip_date    phone signup_date  surge_pct  \\\n",
       "0      King's Landing     2014-06-17   iPhone  2014-01-25       15.4   \n",
       "1             Astapor     2014-05-05  Android  2014-01-29        0.0   \n",
       "2             Astapor     2014-01-07   iPhone  2014-01-06        0.0   \n",
       "3      King's Landing     2014-06-29   iPhone  2014-01-10       20.0   \n",
       "4          Winterfell     2014-03-15  Android  2014-01-27       11.8   \n",
       "5          Winterfell     2014-06-06   iPhone  2014-01-09        0.0   \n",
       "6             Astapor     2014-01-25  Android  2014-01-24        0.0   \n",
       "7          Winterfell     2014-01-29   iPhone  2014-01-28        0.0   \n",
       "8          Winterfell     2014-02-01  Android  2014-01-21        0.0   \n",
       "9          Winterfell     2014-01-05  Android  2014-01-03        0.0   \n",
       "10         Winterfell     2014-05-30   iPhone  2014-01-13        0.0   \n",
       "11         Winterfell     2014-01-10   iPhone  2014-01-06        0.0   \n",
       "12         Winterfell     2014-03-12   iPhone  2014-01-15        0.0   \n",
       "13     King's Landing     2014-06-08   iPhone  2014-01-29       50.0   \n",
       "14            Astapor     2014-01-28  Android  2014-01-27        0.0   \n",
       "15         Winterfell     2014-01-16  Android  2014-01-15        0.0   \n",
       "16     King's Landing     2014-06-28  Android  2014-01-11        0.0   \n",
       "17     King's Landing     2014-07-01   iPhone  2014-01-12        0.0   \n",
       "18     King's Landing     2014-06-24   iPhone  2014-01-28       30.8   \n",
       "19     King's Landing     2014-06-03   iPhone  2014-01-02       33.3   \n",
       "20         Winterfell     2014-03-16  Android  2014-01-31        0.0   \n",
       "21            Astapor     2014-04-29   iPhone  2014-01-09        0.0   \n",
       "22         Winterfell     2014-05-02   iPhone  2014-01-24        0.0   \n",
       "23     King's Landing     2014-06-13  Android  2014-01-21        0.0   \n",
       "24            Astapor     2014-05-18   iPhone  2014-01-19        9.1   \n",
       "25         Winterfell     2014-01-03   iPhone  2014-01-02        0.0   \n",
       "26            Astapor     2014-01-22  Android  2014-01-16        0.0   \n",
       "27         Winterfell     2014-03-05   iPhone  2014-01-19       20.0   \n",
       "28         Winterfell     2014-06-08   iPhone  2014-01-19      100.0   \n",
       "29            Astapor     2014-02-27  Android  2014-01-27        0.0   \n",
       "...               ...            ...      ...         ...        ...   \n",
       "49970      Winterfell     2014-04-14   iPhone  2014-01-16        0.0   \n",
       "49971  King's Landing     2014-06-14   iPhone  2014-01-12        0.0   \n",
       "49972      Winterfell     2014-06-29   iPhone  2014-01-12       50.0   \n",
       "49973         Astapor     2014-06-28   iPhone  2014-01-01        0.0   \n",
       "49974      Winterfell     2014-01-18   iPhone  2014-01-05      100.0   \n",
       "49975      Winterfell     2014-06-18   iPhone  2014-01-11        4.1   \n",
       "49976  King's Landing     2014-07-01   iPhone  2014-01-21        0.0   \n",
       "49977         Astapor     2014-01-09  Android  2014-01-06        0.0   \n",
       "49978      Winterfell     2014-05-03  Android  2014-01-17        0.0   \n",
       "49979      Winterfell     2014-04-07  Android  2014-01-24        0.0   \n",
       "49980         Astapor     2014-01-20  Android  2014-01-05        0.0   \n",
       "49981         Astapor     2014-03-16   iPhone  2014-01-26        0.0   \n",
       "49982  King's Landing     2014-04-24   iPhone  2014-01-21        0.0   \n",
       "49983      Winterfell     2014-02-26  Android  2014-01-27        0.0   \n",
       "49984      Winterfell     2014-01-26  Android  2014-01-26        0.0   \n",
       "49985         Astapor     2014-02-25  Android  2014-01-26        0.0   \n",
       "49986      Winterfell     2014-05-23  Android  2014-01-21        0.0   \n",
       "49987      Winterfell     2014-05-31   iPhone  2014-01-27        0.0   \n",
       "49988  King's Landing     2014-06-14   iPhone  2014-01-20        0.0   \n",
       "49989      Winterfell     2014-01-31   iPhone  2014-01-24        0.0   \n",
       "49990         Astapor     2014-05-18   iPhone  2014-01-13       33.3   \n",
       "49991      Winterfell     2014-06-29   iPhone  2014-01-08      100.0   \n",
       "49992  King's Landing     2014-01-19   iPhone  2014-01-18        0.0   \n",
       "49993         Astapor     2014-07-01   iPhone  2014-01-03       11.1   \n",
       "49994         Astapor     2014-05-31   iPhone  2014-01-03       37.5   \n",
       "49995  King's Landing     2014-06-05   iPhone  2014-01-25        0.0   \n",
       "49996         Astapor     2014-01-25   iPhone  2014-01-24        0.0   \n",
       "49997      Winterfell     2014-05-22  Android  2014-01-31        0.0   \n",
       "49998         Astapor     2014-01-15   iPhone  2014-01-14        0.0   \n",
       "49999         Astapor     2014-04-20  Android  2014-01-18        0.0   \n",
       "\n",
       "       trips_in_first_30_days  ultimate_black_user  weekday_pct  \n",
       "0                           4                 True         46.2  \n",
       "1                           0                False         50.0  \n",
       "2                           3                False        100.0  \n",
       "3                           9                 True         80.0  \n",
       "4                          14                False         82.4  \n",
       "5                           2                 True        100.0  \n",
       "6                           1                False        100.0  \n",
       "7                           2                False        100.0  \n",
       "8                           2                False        100.0  \n",
       "9                           1                False          0.0  \n",
       "10                          1                 True        100.0  \n",
       "11                          3                False        100.0  \n",
       "12                          1                False        100.0  \n",
       "13                          0                False         50.0  \n",
       "14                          1                False        100.0  \n",
       "15                          1                 True        100.0  \n",
       "16                          1                 True         50.0  \n",
       "17                          0                 True         95.2  \n",
       "18                          6                 True         80.8  \n",
       "19                          0                False         66.7  \n",
       "20                          1                False         50.0  \n",
       "21                          1                False        100.0  \n",
       "22                          0                False        100.0  \n",
       "23                          0                 True        100.0  \n",
       "24                          4                False         36.4  \n",
       "25                          1                 True        100.0  \n",
       "26                          1                False        100.0  \n",
       "27                          3                False        100.0  \n",
       "28                          0                False          0.0  \n",
       "29                          1                False        100.0  \n",
       "...                       ...                  ...          ...  \n",
       "49970                       2                False          0.0  \n",
       "49971                       0                 True        100.0  \n",
       "49972                       1                False          0.0  \n",
       "49973                       2                 True         25.0  \n",
       "49974                       1                False        100.0  \n",
       "49975                      11                False         91.8  \n",
       "49976                       0                False        100.0  \n",
       "49977                       4                False        100.0  \n",
       "49978                       1                False         50.0  \n",
       "49979                       0                 True         50.0  \n",
       "49980                       1                False        100.0  \n",
       "49981                       0                 True          0.0  \n",
       "49982                       0                False        100.0  \n",
       "49983                       1                False        100.0  \n",
       "49984                       1                False          0.0  \n",
       "49985                       1                False        100.0  \n",
       "49986                       0                False        100.0  \n",
       "49987                       3                False         80.0  \n",
       "49988                       1                False         50.0  \n",
       "49989                       1                False        100.0  \n",
       "49990                       1                 True         33.3  \n",
       "49991                       0                False          0.0  \n",
       "49992                       1                False          0.0  \n",
       "49993                       3                 True         55.6  \n",
       "49994                       1                False         25.0  \n",
       "49995                       0                False        100.0  \n",
       "49996                       1                False          0.0  \n",
       "49997                       0                 True        100.0  \n",
       "49998                       2                False        100.0  \n",
       "49999                       0                False          0.0  \n",
       "\n",
       "[50000 rows x 12 columns]>"
      ]
     },
     "execution_count": 13,
     "metadata": {},
     "output_type": "execute_result"
    }
   ],
   "source": [
    "df_ultimate.info"
   ]
  },
  {
   "cell_type": "markdown",
   "metadata": {},
   "source": [
    "### Data Cleaning\n",
    "\n",
    "Let's check whether it has missing values. By the table below, 3 columns,\"avg_rating_of_driver\",\"phone\",\"avg_rating_by_driver\",    have missing values. "
   ]
  },
  {
   "cell_type": "code",
   "execution_count": 14,
   "metadata": {},
   "outputs": [],
   "source": [
    "df_missing = df_ultimate.isnull().sum(axis=0).reset_index()"
   ]
  },
  {
   "cell_type": "code",
   "execution_count": 15,
   "metadata": {},
   "outputs": [
    {
     "data": {
      "text/html": [
       "<div>\n",
       "<style scoped>\n",
       "    .dataframe tbody tr th:only-of-type {\n",
       "        vertical-align: middle;\n",
       "    }\n",
       "\n",
       "    .dataframe tbody tr th {\n",
       "        vertical-align: top;\n",
       "    }\n",
       "\n",
       "    .dataframe thead th {\n",
       "        text-align: right;\n",
       "    }\n",
       "</style>\n",
       "<table border=\"1\" class=\"dataframe\">\n",
       "  <thead>\n",
       "    <tr style=\"text-align: right;\">\n",
       "      <th></th>\n",
       "      <th>col_name</th>\n",
       "      <th>missing_values</th>\n",
       "    </tr>\n",
       "  </thead>\n",
       "  <tbody>\n",
       "    <tr>\n",
       "      <th>2</th>\n",
       "      <td>avg_rating_of_driver</td>\n",
       "      <td>8122</td>\n",
       "    </tr>\n",
       "    <tr>\n",
       "      <th>6</th>\n",
       "      <td>phone</td>\n",
       "      <td>396</td>\n",
       "    </tr>\n",
       "    <tr>\n",
       "      <th>1</th>\n",
       "      <td>avg_rating_by_driver</td>\n",
       "      <td>201</td>\n",
       "    </tr>\n",
       "    <tr>\n",
       "      <th>0</th>\n",
       "      <td>avg_dist</td>\n",
       "      <td>0</td>\n",
       "    </tr>\n",
       "    <tr>\n",
       "      <th>3</th>\n",
       "      <td>avg_surge</td>\n",
       "      <td>0</td>\n",
       "    </tr>\n",
       "    <tr>\n",
       "      <th>4</th>\n",
       "      <td>city</td>\n",
       "      <td>0</td>\n",
       "    </tr>\n",
       "    <tr>\n",
       "      <th>5</th>\n",
       "      <td>last_trip_date</td>\n",
       "      <td>0</td>\n",
       "    </tr>\n",
       "    <tr>\n",
       "      <th>7</th>\n",
       "      <td>signup_date</td>\n",
       "      <td>0</td>\n",
       "    </tr>\n",
       "    <tr>\n",
       "      <th>8</th>\n",
       "      <td>surge_pct</td>\n",
       "      <td>0</td>\n",
       "    </tr>\n",
       "    <tr>\n",
       "      <th>9</th>\n",
       "      <td>trips_in_first_30_days</td>\n",
       "      <td>0</td>\n",
       "    </tr>\n",
       "    <tr>\n",
       "      <th>10</th>\n",
       "      <td>ultimate_black_user</td>\n",
       "      <td>0</td>\n",
       "    </tr>\n",
       "    <tr>\n",
       "      <th>11</th>\n",
       "      <td>weekday_pct</td>\n",
       "      <td>0</td>\n",
       "    </tr>\n",
       "  </tbody>\n",
       "</table>\n",
       "</div>"
      ],
      "text/plain": [
       "                  col_name  missing_values\n",
       "2     avg_rating_of_driver            8122\n",
       "6                    phone             396\n",
       "1     avg_rating_by_driver             201\n",
       "0                 avg_dist               0\n",
       "3                avg_surge               0\n",
       "4                     city               0\n",
       "5           last_trip_date               0\n",
       "7              signup_date               0\n",
       "8                surge_pct               0\n",
       "9   trips_in_first_30_days               0\n",
       "10     ultimate_black_user               0\n",
       "11             weekday_pct               0"
      ]
     },
     "execution_count": 15,
     "metadata": {},
     "output_type": "execute_result"
    }
   ],
   "source": [
    "df_missing = df_ultimate.isnull().sum(axis=0).reset_index()\n",
    "df_missing.columns = [\"col_name\",'missing_values']\n",
    "\n",
    "df_missing.sort_values(by='missing_values', ascending=False )"
   ]
  },
  {
   "cell_type": "markdown",
   "metadata": {},
   "source": [
    "The columnm, \"phone\", has two values, \"iphone\" and \"Android\". The most frequent value is \"iPhone\". so fill missing values with \"iPhone\""
   ]
  },
  {
   "cell_type": "code",
   "execution_count": 16,
   "metadata": {},
   "outputs": [
    {
     "data": {
      "text/plain": [
       "iPhone     34582\n",
       "Android    15022\n",
       "Name: phone, dtype: int64"
      ]
     },
     "execution_count": 16,
     "metadata": {},
     "output_type": "execute_result"
    }
   ],
   "source": [
    "df_ultimate.phone.value_counts()"
   ]
  },
  {
   "cell_type": "code",
   "execution_count": 17,
   "metadata": {},
   "outputs": [],
   "source": [
    "df_ultimate['avg_rating_by_driver'].fillna(df_ultimate['avg_rating_by_driver'].mean(), inplace=True)\n",
    "df_ultimate['phone'].fillna('iPhone', inplace=True)\n",
    "df_ultimate['avg_rating_of_driver'].fillna(df_ultimate['avg_rating_of_driver'].mean(), inplace=True)\n"
   ]
  },
  {
   "cell_type": "code",
   "execution_count": 18,
   "metadata": {},
   "outputs": [
    {
     "name": "stdout",
     "output_type": "stream",
     "text": [
      "<class 'pandas.core.frame.DataFrame'>\n",
      "RangeIndex: 50000 entries, 0 to 49999\n",
      "Data columns (total 12 columns):\n",
      "avg_dist                  50000 non-null float64\n",
      "avg_rating_by_driver      50000 non-null float64\n",
      "avg_rating_of_driver      50000 non-null float64\n",
      "avg_surge                 50000 non-null float64\n",
      "city                      50000 non-null object\n",
      "last_trip_date            50000 non-null object\n",
      "phone                     50000 non-null object\n",
      "signup_date               50000 non-null object\n",
      "surge_pct                 50000 non-null float64\n",
      "trips_in_first_30_days    50000 non-null int64\n",
      "ultimate_black_user       50000 non-null bool\n",
      "weekday_pct               50000 non-null float64\n",
      "dtypes: bool(1), float64(6), int64(1), object(4)\n",
      "memory usage: 4.2+ MB\n"
     ]
    }
   ],
   "source": [
    "df_ultimate.info()"
   ]
  },
  {
   "cell_type": "markdown",
   "metadata": {},
   "source": [
    "### Data Visualization and EDA\n",
    "\n",
    "\n",
    "As we are interested in predicting rider retention. \"trips_in_first_30_days\" is one of the important variables. From the bar plot below, most of users, 15390, which is 30.78%, didn't take any trip in 30 days. 43.02% of users took 1 or 2 trip in the first 30 days. "
   ]
  },
  {
   "cell_type": "code",
   "execution_count": 19,
   "metadata": {},
   "outputs": [
    {
     "name": "stderr",
     "output_type": "stream",
     "text": [
      "/Users/kim.jiy/anaconda3/lib/python3.6/site-packages/ipykernel_launcher.py:2: SettingWithCopyWarning: \n",
      "A value is trying to be set on a copy of a slice from a DataFrame.\n",
      "Try using .loc[row_indexer,col_indexer] = value instead\n",
      "\n",
      "See the caveats in the documentation: http://pandas.pydata.org/pandas-docs/stable/indexing.html#indexing-view-versus-copy\n",
      "  \n"
     ]
    },
    {
     "data": {
      "text/plain": [
       "Text(0.5, 1.0, 'Count vs trips_in_first_30_days')"
      ]
     },
     "execution_count": 19,
     "metadata": {},
     "output_type": "execute_result"
    },
    {
     "data": {
      "image/png": "[encoded data removed]",
      "text/plain": [
       "<Figure size 432x288 with 1 Axes>"
      ]
     },
     "metadata": {
      "needs_background": "light"
     },
     "output_type": "display_data"
    }
   ],
   "source": [
    "df_30days = df_ultimate[['trips_in_first_30_days']]\n",
    "df_30days[\"count\"] = 1\n",
    "\n",
    "df_30days = df_30days.groupby('trips_in_first_30_days').sum().reset_index()\n",
    "\n",
    "sns.barplot(x='trips_in_first_30_days', y='count', data=df_30days)\n",
    "plt.ylabel('Count')\n",
    "plt.xlabel('trips_in_first_30_days')\n",
    "plt.title('Count vs trips_in_first_30_days')\n"
   ]
  },
  {
   "cell_type": "code",
   "execution_count": 20,
   "metadata": {},
   "outputs": [
    {
     "name": "stdout",
     "output_type": "stream",
     "text": [
      "30.78\n"
     ]
    }
   ],
   "source": [
    "# percentage of users who didn't take any trip in the first 30 days\n",
    "\n",
    "trip_0 = len(df_ultimate[(df_ultimate[\"trips_in_first_30_days\"]==0)])/ len(df_ultimate.trips_in_first_30_days)\n",
    "\n",
    "print(trip_0*100)"
   ]
  },
  {
   "cell_type": "code",
   "execution_count": 21,
   "metadata": {},
   "outputs": [
    {
     "name": "stdout",
     "output_type": "stream",
     "text": [
      "43.02\n"
     ]
    }
   ],
   "source": [
    "# percentage of users who took 1 or 2 trip in the first 30 days\n",
    "\n",
    "trip_1_2 = len(df_ultimate[(df_ultimate[\"trips_in_first_30_days\"]>0) & (df_ultimate[\"trips_in_first_30_days\"]<3)])/ len(df_ultimate.trips_in_first_30_days)\n",
    "\n",
    "print(trip_1_2*100)"
   ]
  },
  {
   "cell_type": "markdown",
   "metadata": {},
   "source": [
    "\"weekday_pct\" is the percent of the user’s trips occurring during a weekday. The mean of \"weekday_pct\" is 60.926% that means most trips occure during a weekday. "
   ]
  },
  {
   "cell_type": "code",
   "execution_count": 22,
   "metadata": {},
   "outputs": [
    {
     "data": {
      "text/plain": [
       "count    50000.000000\n",
       "mean        60.926084\n",
       "std         37.081503\n",
       "min          0.000000\n",
       "25%         33.300000\n",
       "50%         66.700000\n",
       "75%        100.000000\n",
       "max        100.000000\n",
       "Name: weekday_pct, dtype: float64"
      ]
     },
     "execution_count": 22,
     "metadata": {},
     "output_type": "execute_result"
    }
   ],
   "source": [
    "df_ultimate.weekday_pct.describe()"
   ]
  },
  {
   "cell_type": "markdown",
   "metadata": {},
   "source": [
    "From the bar plot below, we can find that most trip, 49.8% , took place on Winterfall "
   ]
  },
  {
   "cell_type": "code",
   "execution_count": 23,
   "metadata": {},
   "outputs": [
    {
     "data": {
      "text/html": [
       "<div>\n",
       "<style scoped>\n",
       "    .dataframe tbody tr th:only-of-type {\n",
       "        vertical-align: middle;\n",
       "    }\n",
       "\n",
       "    .dataframe tbody tr th {\n",
       "        vertical-align: top;\n",
       "    }\n",
       "\n",
       "    .dataframe thead th {\n",
       "        text-align: right;\n",
       "    }\n",
       "</style>\n",
       "<table border=\"1\" class=\"dataframe\">\n",
       "  <thead>\n",
       "    <tr style=\"text-align: right;\">\n",
       "      <th></th>\n",
       "      <th>city</th>\n",
       "      <th>trips_in_first_30_days</th>\n",
       "    </tr>\n",
       "  </thead>\n",
       "  <tbody>\n",
       "    <tr>\n",
       "      <th>0</th>\n",
       "      <td>Astapor</td>\n",
       "      <td>32219</td>\n",
       "    </tr>\n",
       "    <tr>\n",
       "      <th>1</th>\n",
       "      <td>King's Landing</td>\n",
       "      <td>24957</td>\n",
       "    </tr>\n",
       "    <tr>\n",
       "      <th>2</th>\n",
       "      <td>Winterfell</td>\n",
       "      <td>56734</td>\n",
       "    </tr>\n",
       "  </tbody>\n",
       "</table>\n",
       "</div>"
      ],
      "text/plain": [
       "             city  trips_in_first_30_days\n",
       "0         Astapor                   32219\n",
       "1  King's Landing                   24957\n",
       "2      Winterfell                   56734"
      ]
     },
     "execution_count": 23,
     "metadata": {},
     "output_type": "execute_result"
    }
   ],
   "source": [
    "# frequency table of city and trips in the first 30 days. \n",
    "df_30days_city = df_ultimate[['trips_in_first_30_days', 'city']]\n",
    "df_30days_city = df_30days_city.groupby('city').sum().reset_index()\n",
    "df_30days_city"
   ]
  },
  {
   "cell_type": "code",
   "execution_count": 24,
   "metadata": {},
   "outputs": [
    {
     "data": {
      "text/plain": [
       "2    0.49806\n",
       "Name: trips_in_first_30_days, dtype: float64"
      ]
     },
     "execution_count": 24,
     "metadata": {},
     "output_type": "execute_result"
    }
   ],
   "source": [
    "#percentage of trip which took place on Winterfell\n",
    "\n",
    "df_30days_city[df_30days_city.city==\"Winterfell\"].trips_in_first_30_days/df_30days_city.trips_in_first_30_days.sum()"
   ]
  },
  {
   "cell_type": "code",
   "execution_count": 25,
   "metadata": {},
   "outputs": [
    {
     "data": {
      "text/plain": [
       "Text(0.5, 1.0, 'City vs trips_in_first_30_days')"
      ]
     },
     "execution_count": 25,
     "metadata": {},
     "output_type": "execute_result"
    },
    {
     "data": {
      "image/png": "[encoded data removed]",
      "text/plain": [
       "<Figure size 432x288 with 1 Axes>"
      ]
     },
     "metadata": {
      "needs_background": "light"
     },
     "output_type": "display_data"
    }
   ],
   "source": [
    "sns.barplot(x='city', y='trips_in_first_30_days', data=df_30days_city)\n",
    "plt.ylabel('trips in first 30 Days')\n",
    "plt.xlabel('City')\n",
    "plt.title('City vs trips_in_first_30_days')"
   ]
  },
  {
   "cell_type": "markdown",
   "metadata": {},
   "source": [
    "### Retained user\n",
    "\n",
    "Let's find out the fraction of the observed users were retained.  we consider a user retained if they were “active” (i.e. took a trip) in their 6gh month on the system. That means if the last trip of user is later than June 1st, 2016, we consider a user is active. It the last trip of user is earlier than June 1st, 2016, it is a retained user. \n",
    "\n",
    "the fraction of the observed users is 37.608"
   ]
  },
  {
   "cell_type": "code",
   "execution_count": 26,
   "metadata": {},
   "outputs": [],
   "source": [
    "# make a new column \"retained\" to see which user retained.\n",
    "\n",
    "df_ultimate['retained'] = 1\n",
    "df_ultimate.loc[df_ultimate['last_trip_date'] >= '2014-06-01', 'retained'] = 1\n",
    "df_ultimate.loc[df_ultimate['last_trip_date'] < '2014-06-01', 'retained'] = 0"
   ]
  },
  {
   "cell_type": "code",
   "execution_count": 27,
   "metadata": {},
   "outputs": [
    {
     "data": {
      "text/plain": [
       "0.37608"
      ]
     },
     "execution_count": 27,
     "metadata": {},
     "output_type": "execute_result"
    }
   ],
   "source": [
    "# find a fraction of retained user\n",
    "\n",
    "df_ultimate['retained'].sum()/len(df_ultimate['retained'])"
   ]
  },
  {
   "cell_type": "markdown",
   "metadata": {},
   "source": [
    "### Build a predictive model\n",
    "\n",
    "#### Prepare Data\n",
    "\n",
    "First convert categorical column to dummy variables. Also drop date column. We would divide entire data to have 75 % of training data and 25% of test data. "
   ]
  },
  {
   "cell_type": "code",
   "execution_count": 28,
   "metadata": {},
   "outputs": [],
   "source": [
    "# convert categorical column to dummy variables\n",
    "\n",
    "df_ultimate.loc[:, df_ultimate.dtypes == np.object].columns\n",
    "df = pd.get_dummies(df_ultimate,columns = ['city',  'phone'],drop_first = True)"
   ]
  },
  {
   "cell_type": "code",
   "execution_count": 29,
   "metadata": {},
   "outputs": [],
   "source": [
    "# Drop date column\n",
    "df.drop (['last_trip_date', 'signup_date'],axis = 1, inplace = True)"
   ]
  },
  {
   "cell_type": "code",
   "execution_count": 30,
   "metadata": {},
   "outputs": [],
   "source": [
    "Y = df['retained']\n",
    "X = df.drop('retained', axis=1)"
   ]
  },
  {
   "cell_type": "code",
   "execution_count": 31,
   "metadata": {},
   "outputs": [],
   "source": [
    "# let's have 75 % of training data and 25% of test data\n",
    "X_new = X.copy()\n",
    "\n",
    "X_new['is_train'] = np.random.uniform(0,1, len(X_new)) <= 0.75\n",
    "\n",
    "train_X = X_new[X_new['is_train']==1]\n",
    "test_X = X_new[X_new['is_train']==0]\n",
    "\n",
    "train_Y = Y[X_new['is_train']==1]\n",
    "test_Y = Y[X_new['is_train']==0]"
   ]
  },
  {
   "cell_type": "markdown",
   "metadata": {},
   "source": [
    "### Random Forest\n",
    "\n"
   ]
  },
  {
   "cell_type": "markdown",
   "metadata": {},
   "source": [
    "I chose a random variable to determine whether or not a user will be active in their 6th month on the system. I also considered to use logistic model, but it might have overfitting. However, random forest reduces overfitting by averaging several tress. Also, by using we can reduce the chance of stumbling across a classifier that doesn’t perform well because of the relationship between the train and test data.\n",
    "\n",
    "From grid search, the model with max_features of 10, oob_score of 20 and n_estimators of 50 were selected.\n",
    "The MSE of random forest was 0.240. \n"
   ]
  },
  {
   "cell_type": "code",
   "execution_count": 46,
   "metadata": {},
   "outputs": [
    {
     "name": "stdout",
     "output_type": "stream",
     "text": [
      "Fitting 2 folds for each of 27 candidates, totalling 54 fits\n"
     ]
    },
    {
     "name": "stderr",
     "output_type": "stream",
     "text": [
      "[Parallel(n_jobs=-1)]: Using backend LokyBackend with 4 concurrent workers.\n",
      "[Parallel(n_jobs=-1)]: Done  42 tasks      | elapsed:   14.9s\n",
      "[Parallel(n_jobs=-1)]: Done  54 out of  54 | elapsed:   22.0s finished\n"
     ]
    },
    {
     "data": {
      "text/plain": [
       "GridSearchCV(cv=2, error_score='raise-deprecating',\n",
       "       estimator=RandomForestClassifier(bootstrap=True, class_weight=None, criterion='gini',\n",
       "            max_depth=None, max_features='auto', max_leaf_nodes=None,\n",
       "            min_impurity_decrease=0.0, min_impurity_split=None,\n",
       "            min_samples_leaf=1, min_samples_split=2,\n",
       "            min_weight_fraction_leaf=0.0, n_estimators='warn', n_jobs=None,\n",
       "            oob_score=False, random_state=None, verbose=0,\n",
       "            warm_start=False),\n",
       "       fit_params=None, iid='warn', n_jobs=-1,\n",
       "       param_grid={'n_estimators': [10, 30, 50], 'max_features': [None, 5, 10], 'oob_score': [5, 10, 20]},\n",
       "       pre_dispatch='2*n_jobs', refit=True, return_train_score='warn',\n",
       "       scoring=None, verbose=1)"
      ]
     },
     "execution_count": 46,
     "metadata": {},
     "output_type": "execute_result"
    }
   ],
   "source": [
    "from sklearn.model_selection import GridSearchCV\n",
    "from sklearn.ensemble import RandomForestClassifier\n",
    "\n",
    "# Use the grid search  to search for best parameters\n",
    "rf = RandomForestClassifier()\n",
    "\n",
    "tuned_parameters = {'n_estimators': [10, 30, 50], 'max_features': [None, 5,10], 'oob_score': [5,10,20]}\n",
    "rf_RF = GridSearchCV(rf, tuned_parameters, cv=2, n_jobs=-1, verbose=1)\n",
    "\n",
    "\n",
    "# Fit the random search model\n",
    "rf_RF.fit(train_X, train_Y)"
   ]
  },
  {
   "cell_type": "code",
   "execution_count": 47,
   "metadata": {},
   "outputs": [
    {
     "name": "stdout",
     "output_type": "stream",
     "text": [
      "{'max_features': 5, 'n_estimators': 50, 'oob_score': 10}\n"
     ]
    }
   ],
   "source": [
    "# The best parameters selected from grid search\n",
    "print (rf_RF.best_params_)"
   ]
  },
  {
   "cell_type": "code",
   "execution_count": 48,
   "metadata": {},
   "outputs": [
    {
     "data": {
      "text/plain": [
       "0.24088938834483867"
      ]
     },
     "execution_count": 48,
     "metadata": {},
     "output_type": "execute_result"
    }
   ],
   "source": [
    "from sklearn.metrics import accuracy_score, classification_report, mean_squared_error\n",
    "\n",
    "\n",
    "rf_RF = RandomForestClassifier(max_features=5, oob_score=10, n_estimators=50)\n",
    "rf_RF_fit =rf_RF.fit(train_X, train_Y)\n",
    "Y_pred = rf_RF_fit.predict(test_X)\n",
    "\n",
    "mean_squared_error(test_Y, Y_pred)\n",
    "            \n",
    "            \n"
   ]
  },
  {
   "cell_type": "markdown",
   "metadata": {},
   "source": [
    "#### Feature Importance\n",
    "\n",
    "The top 3 important features are like below\n",
    "\n",
    "1. avg_rating_by_driver: the rider’s average rating over all of their trips\t\n",
    "\n",
    "2. city_King's Landing\t: city this user signed up in is King's Landing\n",
    "\n",
    "3. weekday_pct: the percent of the user’s trips occurring during a weekday\n",
    "\n",
    "\n",
    "\n",
    "\n",
    "\n"
   ]
  },
  {
   "cell_type": "code",
   "execution_count": 43,
   "metadata": {},
   "outputs": [
    {
     "data": {
      "text/plain": [
       "array([0.08162017, 0.33509699, 0.02531508, 0.02881214, 0.0751988 ,\n",
       "       0.04785904, 0.05496369, 0.09802866, 0.15825739, 0.01319398,\n",
       "       0.08165406, 0.        ])"
      ]
     },
     "execution_count": 43,
     "metadata": {},
     "output_type": "execute_result"
    }
   ],
   "source": [
    "importances = rf_RF.feature_importances_\n",
    "importances"
   ]
  },
  {
   "cell_type": "code",
   "execution_count": 50,
   "metadata": {},
   "outputs": [
    {
     "data": {
      "text/html": [
       "<div>\n",
       "<style scoped>\n",
       "    .dataframe tbody tr th:only-of-type {\n",
       "        vertical-align: middle;\n",
       "    }\n",
       "\n",
       "    .dataframe tbody tr th {\n",
       "        vertical-align: top;\n",
       "    }\n",
       "\n",
       "    .dataframe thead th {\n",
       "        text-align: right;\n",
       "    }\n",
       "</style>\n",
       "<table border=\"1\" class=\"dataframe\">\n",
       "  <thead>\n",
       "    <tr style=\"text-align: right;\">\n",
       "      <th></th>\n",
       "      <th>features</th>\n",
       "      <th>Importance</th>\n",
       "    </tr>\n",
       "  </thead>\n",
       "  <tbody>\n",
       "    <tr>\n",
       "      <th>1</th>\n",
       "      <td>avg_rating_by_driver</td>\n",
       "      <td>0.335097</td>\n",
       "    </tr>\n",
       "    <tr>\n",
       "      <th>8</th>\n",
       "      <td>city_King's Landing</td>\n",
       "      <td>0.158257</td>\n",
       "    </tr>\n",
       "    <tr>\n",
       "      <th>7</th>\n",
       "      <td>weekday_pct</td>\n",
       "      <td>0.098029</td>\n",
       "    </tr>\n",
       "  </tbody>\n",
       "</table>\n",
       "</div>"
      ],
      "text/plain": [
       "               features  Importance\n",
       "1  avg_rating_by_driver    0.335097\n",
       "8   city_King's Landing    0.158257\n",
       "7           weekday_pct    0.098029"
      ]
     },
     "execution_count": 50,
     "metadata": {},
     "output_type": "execute_result"
    }
   ],
   "source": [
    "fi = pd.DataFrame(list(zip(X.columns, importances)), columns = ['features', 'Importance'])\n",
    "fi.sort_values(by='Importance', ascending=False).head(3)"
   ]
  },
  {
   "cell_type": "markdown",
   "metadata": {},
   "source": [
    "#### How to improve retention\n",
    "\n",
    "The most important features which related to retention are rider's average rating, King's Landing and the percent of the user's trips during a weekday. \n",
    "Becuase the rider's average rating is highly correlated to retention, the company need to get more high rated driver. Also check how King's Landing is related to retention compared to other cities. Lastly, the more a user make trip during a weekday,  "
   ]
  }
 ],
 "metadata": {
  "kernelspec": {
   "display_name": "Python 3",
   "language": "python",
   "name": "python3"
  },
  "language_info": {
   "codemirror_mode": {
    "name": "ipython",
    "version": 3
   },
   "file_extension": ".py",
   "mimetype": "text/x-python",
   "name": "python",
   "nbconvert_exporter": "python",
   "pygments_lexer": "ipython3",
   "version": "3.6.6"
  }
 },
 "nbformat": 4,
 "nbformat_minor": 2
}
